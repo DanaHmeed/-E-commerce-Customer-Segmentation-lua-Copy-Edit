{
 "cells": [
  {
   "cell_type": "markdown",
   "id": "db154727-3f52-4ffc-9f38-55d26cd1921c",
   "metadata": {},
   "source": [
    "# 📌 Customer Segmentation Using Unsupervised Learning"
   ]
  },
  {
   "cell_type": "markdown",
   "id": "6e78c542-5fc8-45db-9017-470c8dc207a9",
   "metadata": {},
   "source": [
    "### 🔹 Step 1: Load and Prepare the Data"
   ]
  },
  {
   "cell_type": "code",
   "execution_count": 129,
   "id": "8d0354ea-cc38-46f7-ac82-778eac9970ab",
   "metadata": {},
   "outputs": [
    {
     "name": "stdout",
     "output_type": "stream",
     "text": [
      "['customers', 'genders', 'cities', 'transactions', 'branches', 'merchants']\n"
     ]
    }
   ],
   "source": [
    "import pandas as pd\n",
    "import numpy as np\n",
    "import matplotlib.pyplot as plt\n",
    "import seaborn as sns\n",
    "from sklearn.preprocessing import StandardScaler, LabelEncoder\n",
    "from sklearn.cluster import KMeans, DBSCAN, AgglomerativeClustering\n",
    "from sklearn.metrics import silhouette_score\n",
    "from scipy.cluster.hierarchy import dendrogram, linkage\n",
    "\n",
    "# Loading excel file\n",
    "file_path = \"E-commerce_data.xlsx\" \n",
    "xls = pd.ExcelFile(file_path)\n",
    "\n",
    "print(xls.sheet_names)\n"
   ]
  },
  {
   "cell_type": "code",
   "execution_count": 103,
   "id": "df7533b9-aee2-40c3-bd56-8125254f47ba",
   "metadata": {},
   "outputs": [],
   "source": [
    "# Load each sheet into a separate DataFrame\n",
    "customers = pd.read_excel(xls, sheet_name=\"customers\")\n",
    "genders = pd.read_excel(xls, sheet_name=\"genders\")\n",
    "cities = pd.read_excel(xls, sheet_name=\"cities\")\n",
    "transactions = pd.read_excel(xls, sheet_name=\"transactions\")\n",
    "branches = pd.read_excel(xls, sheet_name=\"branches\")\n",
    "merchants = pd.read_excel(xls, sheet_name=\"merchants\")\n"
   ]
  },
  {
   "cell_type": "code",
   "execution_count": 109,
   "id": "b6a76027-e135-4aff-838b-264deba9634a",
   "metadata": {},
   "outputs": [
    {
     "data": {
      "text/html": [
       "<div>\n",
       "<style scoped>\n",
       "    .dataframe tbody tr th:only-of-type {\n",
       "        vertical-align: middle;\n",
       "    }\n",
       "\n",
       "    .dataframe tbody tr th {\n",
       "        vertical-align: top;\n",
       "    }\n",
       "\n",
       "    .dataframe thead th {\n",
       "        text-align: right;\n",
       "    }\n",
       "</style>\n",
       "<table border=\"1\" class=\"dataframe\">\n",
       "  <thead>\n",
       "    <tr style=\"text-align: right;\">\n",
       "      <th></th>\n",
       "      <th>customer_id</th>\n",
       "      <th>join_date</th>\n",
       "      <th>city_id</th>\n",
       "      <th>gender_id</th>\n",
       "    </tr>\n",
       "  </thead>\n",
       "  <tbody>\n",
       "    <tr>\n",
       "      <th>0</th>\n",
       "      <td>1</td>\n",
       "      <td>2022-01-08</td>\n",
       "      <td>7</td>\n",
       "      <td>1</td>\n",
       "    </tr>\n",
       "    <tr>\n",
       "      <th>1</th>\n",
       "      <td>2</td>\n",
       "      <td>2023-05-02</td>\n",
       "      <td>20</td>\n",
       "      <td>2</td>\n",
       "    </tr>\n",
       "    <tr>\n",
       "      <th>2</th>\n",
       "      <td>3</td>\n",
       "      <td>2023-05-14</td>\n",
       "      <td>15</td>\n",
       "      <td>1</td>\n",
       "    </tr>\n",
       "    <tr>\n",
       "      <th>3</th>\n",
       "      <td>4</td>\n",
       "      <td>2022-11-25</td>\n",
       "      <td>11</td>\n",
       "      <td>2</td>\n",
       "    </tr>\n",
       "    <tr>\n",
       "      <th>4</th>\n",
       "      <td>5</td>\n",
       "      <td>2023-04-26</td>\n",
       "      <td>8</td>\n",
       "      <td>1</td>\n",
       "    </tr>\n",
       "  </tbody>\n",
       "</table>\n",
       "</div>"
      ],
      "text/plain": [
       "   customer_id  join_date  city_id  gender_id\n",
       "0            1 2022-01-08        7          1\n",
       "1            2 2023-05-02       20          2\n",
       "2            3 2023-05-14       15          1\n",
       "3            4 2022-11-25       11          2\n",
       "4            5 2023-04-26        8          1"
      ]
     },
     "execution_count": 109,
     "metadata": {},
     "output_type": "execute_result"
    }
   ],
   "source": [
    "customers.head()"
   ]
  },
  {
   "cell_type": "code",
   "execution_count": 107,
   "id": "6f3f605a-c521-4e50-887d-cccd3adde828",
   "metadata": {},
   "outputs": [
    {
     "data": {
      "text/html": [
       "<div>\n",
       "<style scoped>\n",
       "    .dataframe tbody tr th:only-of-type {\n",
       "        vertical-align: middle;\n",
       "    }\n",
       "\n",
       "    .dataframe tbody tr th {\n",
       "        vertical-align: top;\n",
       "    }\n",
       "\n",
       "    .dataframe thead th {\n",
       "        text-align: right;\n",
       "    }\n",
       "</style>\n",
       "<table border=\"1\" class=\"dataframe\">\n",
       "  <thead>\n",
       "    <tr style=\"text-align: right;\">\n",
       "      <th></th>\n",
       "      <th>transaction_id</th>\n",
       "      <th>customer_id</th>\n",
       "      <th>transaction_date</th>\n",
       "      <th>transaction_status</th>\n",
       "      <th>coupon_name</th>\n",
       "      <th>burn_date</th>\n",
       "      <th>branch_id</th>\n",
       "    </tr>\n",
       "  </thead>\n",
       "  <tbody>\n",
       "    <tr>\n",
       "      <th>0</th>\n",
       "      <td>1</td>\n",
       "      <td>733</td>\n",
       "      <td>2024-05-11</td>\n",
       "      <td>subscribed</td>\n",
       "      <td>uNY-568</td>\n",
       "      <td>NaT</td>\n",
       "      <td>7</td>\n",
       "    </tr>\n",
       "    <tr>\n",
       "      <th>1</th>\n",
       "      <td>2</td>\n",
       "      <td>631</td>\n",
       "      <td>2023-05-15</td>\n",
       "      <td>burned</td>\n",
       "      <td>kBx-219</td>\n",
       "      <td>2023-06-04</td>\n",
       "      <td>5</td>\n",
       "    </tr>\n",
       "    <tr>\n",
       "      <th>2</th>\n",
       "      <td>3</td>\n",
       "      <td>309</td>\n",
       "      <td>2022-11-13</td>\n",
       "      <td>subscribed</td>\n",
       "      <td>PLG-122</td>\n",
       "      <td>NaT</td>\n",
       "      <td>7</td>\n",
       "    </tr>\n",
       "    <tr>\n",
       "      <th>3</th>\n",
       "      <td>4</td>\n",
       "      <td>695</td>\n",
       "      <td>2024-01-26</td>\n",
       "      <td>subscribed</td>\n",
       "      <td>Wzf-897</td>\n",
       "      <td>NaT</td>\n",
       "      <td>2</td>\n",
       "    </tr>\n",
       "    <tr>\n",
       "      <th>4</th>\n",
       "      <td>5</td>\n",
       "      <td>288</td>\n",
       "      <td>2022-10-12</td>\n",
       "      <td>burned</td>\n",
       "      <td>qGb-428</td>\n",
       "      <td>2022-11-20</td>\n",
       "      <td>6</td>\n",
       "    </tr>\n",
       "  </tbody>\n",
       "</table>\n",
       "</div>"
      ],
      "text/plain": [
       "   transaction_id  customer_id transaction_date transaction_status  \\\n",
       "0               1          733       2024-05-11         subscribed   \n",
       "1               2          631       2023-05-15             burned   \n",
       "2               3          309       2022-11-13         subscribed   \n",
       "3               4          695       2024-01-26         subscribed   \n",
       "4               5          288       2022-10-12             burned   \n",
       "\n",
       "  coupon_name  burn_date  branch_id  \n",
       "0     uNY-568        NaT          7  \n",
       "1     kBx-219 2023-06-04          5  \n",
       "2     PLG-122        NaT          7  \n",
       "3     Wzf-897        NaT          2  \n",
       "4     qGb-428 2022-11-20          6  "
      ]
     },
     "execution_count": 107,
     "metadata": {},
     "output_type": "execute_result"
    }
   ],
   "source": [
    "transactions.head()"
   ]
  },
  {
   "cell_type": "code",
   "execution_count": 13,
   "id": "e9051304-33d4-48d6-b169-c92584fc3ea0",
   "metadata": {},
   "outputs": [
    {
     "name": "stdout",
     "output_type": "stream",
     "text": [
      "<class 'pandas.core.frame.DataFrame'>\n",
      "RangeIndex: 1000 entries, 0 to 999\n",
      "Data columns (total 4 columns):\n",
      " #   Column       Non-Null Count  Dtype         \n",
      "---  ------       --------------  -----         \n",
      " 0   customer_id  1000 non-null   int64         \n",
      " 1   join_date    1000 non-null   datetime64[ns]\n",
      " 2   city_id      1000 non-null   int64         \n",
      " 3   gender_id    1000 non-null   int64         \n",
      "dtypes: datetime64[ns](1), int64(3)\n",
      "memory usage: 31.4 KB\n",
      "None\n",
      "<class 'pandas.core.frame.DataFrame'>\n",
      "RangeIndex: 5000 entries, 0 to 4999\n",
      "Data columns (total 7 columns):\n",
      " #   Column              Non-Null Count  Dtype         \n",
      "---  ------              --------------  -----         \n",
      " 0   transaction_id      5000 non-null   int64         \n",
      " 1   customer_id         5000 non-null   int64         \n",
      " 2   transaction_date    5000 non-null   datetime64[ns]\n",
      " 3   transaction_status  5000 non-null   object        \n",
      " 4   coupon_name         5000 non-null   object        \n",
      " 5   burn_date           2516 non-null   datetime64[ns]\n",
      " 6   branch_id           5000 non-null   int64         \n",
      "dtypes: datetime64[ns](2), int64(3), object(2)\n",
      "memory usage: 273.6+ KB\n",
      "None\n"
     ]
    }
   ],
   "source": [
    "# Check data types for all columns\n",
    "print(customers.info())\n",
    "print(transactions.info())\n"
   ]
  },
  {
   "cell_type": "code",
   "execution_count": 11,
   "id": "24f23f50-7a20-4d9d-b36f-376e281efdda",
   "metadata": {},
   "outputs": [
    {
     "name": "stdout",
     "output_type": "stream",
     "text": [
      "customers - Missing Values:\n",
      "customer_id    0\n",
      "join_date      0\n",
      "city_id        0\n",
      "gender_id      0\n",
      "dtype: int64\n",
      "\n",
      "genders - Missing Values:\n",
      "gender_id      0\n",
      "gender_name    0\n",
      "dtype: int64\n",
      "\n",
      "cities - Missing Values:\n",
      "city_id      0\n",
      "city_name    0\n",
      "dtype: int64\n",
      "\n",
      "transactions - Missing Values:\n",
      "transaction_id           0\n",
      "customer_id              0\n",
      "transaction_date         0\n",
      "transaction_status       0\n",
      "coupon_name              0\n",
      "burn_date             2484\n",
      "branch_id                0\n",
      "dtype: int64\n",
      "\n",
      "branches - Missing Values:\n",
      "branch_id      0\n",
      "merchant_id    0\n",
      "dtype: int64\n",
      "\n",
      "merchants - Missing Values:\n",
      "merchant_id      0\n",
      "merchant_name    0\n",
      "dtype: int64\n",
      "\n"
     ]
    }
   ],
   "source": [
    "# Check for missing values in each table\n",
    "for df_name, df in zip([\"customers\", \"genders\", \"cities\", \"transactions\", \"branches\", \"merchants\"],\n",
    "                        [customers, genders, cities, transactions, branches, merchants]):\n",
    "    print(f\"{df_name} - Missing Values:\\n{df.isnull().sum()}\\n\")\n"
   ]
  },
  {
   "cell_type": "code",
   "execution_count": 111,
   "id": "91bfc3d6-f181-4733-97b2-131b26ef2792",
   "metadata": {},
   "outputs": [],
   "source": [
    "import warnings\n",
    "warnings.filterwarnings(\"ignore\")\n"
   ]
  },
  {
   "cell_type": "markdown",
   "id": "cb0b79fb-f62c-4edd-b664-6ee53a09a422",
   "metadata": {},
   "source": [
    "## Handling Missing Values"
   ]
  },
  {
   "cell_type": "code",
   "execution_count": 113,
   "id": "f1e7b076-c2e9-4f30-ba6a-2bb493237b03",
   "metadata": {},
   "outputs": [],
   "source": [
    "transactions['burn_date'].fillna(\"Not Burnt\", inplace=True)\n"
   ]
  },
  {
   "cell_type": "code",
   "execution_count": 115,
   "id": "9bbda510-466f-4af1-8513-224611e75f2d",
   "metadata": {},
   "outputs": [
    {
     "name": "stdout",
     "output_type": "stream",
     "text": [
      "claimed_frequency    0\n",
      "burn_frequency       0\n",
      "burn_rate            0\n",
      "dtype: int64\n",
      "0\n"
     ]
    }
   ],
   "source": [
    "import numpy as np\n",
    "\n",
    "# Check if any NaN values exist in the features dataframe\n",
    "print(features.isnull().sum())\n",
    "\n",
    "# Check if there are any NaN values after scaling\n",
    "print(np.isnan(features_scaled).sum())\n"
   ]
  },
  {
   "cell_type": "code",
   "execution_count": 117,
   "id": "d90de163-a3d6-48a3-bdb6-4c2806d25b8e",
   "metadata": {},
   "outputs": [],
   "source": [
    "# Fill NaN values with 0 (Assuming missing values mean no claims)\n",
    "features['claimed_frequency'].fillna(0, inplace=True)\n",
    "\n",
    "# Standardize data again after fixing NaNs\n",
    "features_scaled = scaler.fit_transform(features)\n"
   ]
  },
  {
   "cell_type": "markdown",
   "id": "6b28cfa5-6c0f-4cff-939f-9900f0a85da7",
   "metadata": {},
   "source": [
    "## Merging Tables"
   ]
  },
  {
   "cell_type": "markdown",
   "id": "acb0decb-706c-437e-a4e1-11d75d96ed33",
   "metadata": {},
   "source": [
    "#### 1️⃣ Merge Customers with Genders & Cities\n"
   ]
  },
  {
   "cell_type": "code",
   "execution_count": 22,
   "id": "eae4fbe0-68fb-491d-91d0-274721086b9a",
   "metadata": {},
   "outputs": [],
   "source": [
    "customers = customers.merge(genders, on=\"gender_id\", how=\"left\")\n",
    "customers = customers.merge(cities, on=\"city_id\", how=\"left\")"
   ]
  },
  {
   "cell_type": "markdown",
   "id": "3c19cb99-3a20-4965-9340-362110145e18",
   "metadata": {},
   "source": [
    "#### 2️⃣ Merge Transactions with Customers"
   ]
  },
  {
   "cell_type": "code",
   "execution_count": 26,
   "id": "9d6313b3-e9bc-4635-af1e-12978468df8d",
   "metadata": {},
   "outputs": [],
   "source": [
    "transactions = transactions.merge(customers, on=\"customer_id\", how=\"left\")"
   ]
  },
  {
   "cell_type": "markdown",
   "id": "e349c666-063d-4684-9970-87de81889469",
   "metadata": {},
   "source": [
    "#### 3️⃣ Merge Transactions with Branches & Merchants"
   ]
  },
  {
   "cell_type": "code",
   "execution_count": 29,
   "id": "2e276e13-a48f-4206-8689-aafb815e034d",
   "metadata": {},
   "outputs": [],
   "source": [
    "transactions = transactions.merge(branches, on=\"branch_id\", how=\"left\")\n",
    "transactions = transactions.merge(merchants, on=\"merchant_id\", how=\"left\")"
   ]
  },
  {
   "cell_type": "markdown",
   "id": "1ea223e7-bfb6-44b8-b4a3-c5edb73e6fe1",
   "metadata": {},
   "source": [
    "## Feature Engineering"
   ]
  },
  {
   "cell_type": "markdown",
   "id": "841564fd-5019-4ff8-a00b-333722ab9f3e",
   "metadata": {},
   "source": [
    "#### 1️⃣ Creating Burn Frequency per Customer"
   ]
  },
  {
   "cell_type": "code",
   "execution_count": 33,
   "id": "a9551cf1-4d06-4023-96a8-36de87e371fb",
   "metadata": {},
   "outputs": [],
   "source": [
    "burn_freq = transactions[transactions[\"burn_date\"] != \"Not Burnt\"].groupby(\"customer_id\")[\"transaction_id\"].count().reset_index()\n",
    "burn_freq.rename(columns={\"transaction_id\": \"burn_frequency\"}, inplace=True)"
   ]
  },
  {
   "cell_type": "markdown",
   "id": "c37d7e63-9c45-4270-9654-ceb500c7f823",
   "metadata": {},
   "source": [
    "#### 2️⃣ Creating Claimed Frequency per Customer"
   ]
  },
  {
   "cell_type": "code",
   "execution_count": 36,
   "id": "d3ed49b0-b86e-47f3-82dd-26aa0df0e677",
   "metadata": {},
   "outputs": [],
   "source": [
    "claim_freq = transactions.groupby(\"customer_id\")[\"transaction_id\"].count().reset_index()\n",
    "claim_freq.rename(columns={\"transaction_id\": \"claimed_frequency\"}, inplace=True)"
   ]
  },
  {
   "cell_type": "markdown",
   "id": "dfc22a1b-2b24-4470-aac1-e76caf731691",
   "metadata": {},
   "source": [
    "#### 3️⃣ Merge These Features into Customers Table"
   ]
  },
  {
   "cell_type": "code",
   "execution_count": 119,
   "id": "8b9a9e5b-65f8-4623-b4f3-beff38591063",
   "metadata": {},
   "outputs": [],
   "source": [
    "customers = customers.merge(claim_freq, on=\"customer_id\", how=\"left\")\n",
    "customers = customers.merge(burn_freq, on=\"customer_id\", how=\"left\")\n",
    "\n",
    "# Fill NaN values (for customers who never burnt a coupon)\n",
    "customers[\"burn_frequency\"].fillna(0, inplace=True)\n"
   ]
  },
  {
   "cell_type": "markdown",
   "id": "1a46e298-64a3-402f-b51e-9437669af541",
   "metadata": {},
   "source": [
    "#### 4️⃣ Creating Burn Rate (Success Rate of Coupons)"
   ]
  },
  {
   "cell_type": "code",
   "execution_count": 121,
   "id": "05913421-4a21-4205-8e7b-2e7607fa69f2",
   "metadata": {},
   "outputs": [],
   "source": [
    "customers[\"burn_rate\"] = customers[\"burn_frequency\"] / customers[\"claimed_frequency\"]\n",
    "customers[\"burn_rate\"].fillna(0, inplace=True)  # Replace NaN with 0 (for customers who never claimed)"
   ]
  },
  {
   "cell_type": "markdown",
   "id": "5d2d0de9-07b3-4a07-bd4c-7e8b0b20f83e",
   "metadata": {},
   "source": [
    "## Preparing Data for Clustering"
   ]
  },
  {
   "cell_type": "code",
   "execution_count": 49,
   "id": "7f8a3186-d447-46a4-b5b6-f5ab5dc62bac",
   "metadata": {},
   "outputs": [],
   "source": [
    "#Select Features for Clustering\n",
    "features = customers[['claimed_frequency', 'burn_frequency', 'burn_rate']]\n",
    "# Normalize the Data\n",
    "from sklearn.preprocessing import StandardScaler\n",
    "scaler = StandardScaler()\n",
    "features_scaled = scaler.fit_transform(features)\n"
   ]
  },
  {
   "cell_type": "markdown",
   "id": "401dd0c1-cb9c-426d-ac43-345d0993dcd5",
   "metadata": {},
   "source": [
    "## Customer Segmentation with K-Means"
   ]
  },
  {
   "cell_type": "code",
   "execution_count": 123,
   "id": "3aca2893-1369-4dc4-9715-2f6eff6bfa4b",
   "metadata": {},
   "outputs": [
    {
     "data": {
      "image/png": "[encoded data removed]",
      "text/plain": [
       "<Figure size 800x500 with 1 Axes>"
      ]
     },
     "metadata": {},
     "output_type": "display_data"
    }
   ],
   "source": [
    "inertia = []\n",
    "K_range = range(2, 10)\n",
    "\n",
    "for k in K_range:\n",
    "    kmeans = KMeans(n_clusters=k, random_state=42)\n",
    "    kmeans.fit(features_scaled)\n",
    "    inertia.append(kmeans.inertia_)\n",
    "\n",
    "# Plot the Elbow Curve\n",
    "plt.figure(figsize=(8, 5))\n",
    "plt.plot(K_range, inertia, marker=\"o\")\n",
    "plt.xlabel(\"Number of Clusters\")\n",
    "plt.ylabel(\"Inertia\")\n",
    "plt.title(\"Elbow Method for Optimal K\")\n",
    "plt.show()\n"
   ]
  },
  {
   "cell_type": "code",
   "execution_count": 76,
   "id": "011ddc8c-1182-45c8-85b8-b641c2c293b3",
   "metadata": {},
   "outputs": [
    {
     "name": "stdout",
     "output_type": "stream",
     "text": [
      "(989, 3)\n",
      "(1000, 11)\n"
     ]
    }
   ],
   "source": [
    "print(features_scaled.shape)  # Expected: (1000, 3), but yours is (989, 3)\n",
    "print(customers.shape)  # Expected: (1000, X)\n"
   ]
  },
  {
   "cell_type": "code",
   "execution_count": 82,
   "id": "b0191d46-dcce-4fd5-971c-86685425c00f",
   "metadata": {},
   "outputs": [
    {
     "name": "stdout",
     "output_type": "stream",
     "text": [
      "(1000, 3)\n"
     ]
    }
   ],
   "source": [
    "# Make sure features is a separate DataFrame\n",
    "features = customers[['claimed_frequency', 'burn_frequency', 'burn_rate']].copy()\n",
    "\n",
    "# Fill missing values to avoid dropping rows\n",
    "features.fillna(0, inplace=True)\n",
    "\n",
    "# Check if we now have all 1000 rows\n",
    "print(features.shape)  # Should be (1000, 3)\n"
   ]
  },
  {
   "cell_type": "code",
   "execution_count": 84,
   "id": "64bb4547-0a9b-469f-94fb-09a96217827a",
   "metadata": {},
   "outputs": [
    {
     "name": "stdout",
     "output_type": "stream",
     "text": [
      "(1000, 3)\n"
     ]
    }
   ],
   "source": [
    "from sklearn.preprocessing import StandardScaler\n",
    "\n",
    "scaler = StandardScaler()\n",
    "features_scaled = scaler.fit_transform(features)\n",
    "\n",
    "# Verify the new shape\n",
    "print(features_scaled.shape)  # Should be (1000, 3)\n"
   ]
  },
  {
   "cell_type": "code",
   "execution_count": 125,
   "id": "5c1534c6-c509-4835-8f42-40b28ceb1362",
   "metadata": {},
   "outputs": [
    {
     "name": "stdout",
     "output_type": "stream",
     "text": [
      "cluster\n",
      "3    352\n",
      "1    245\n",
      "0    211\n",
      "2    192\n",
      "Name: count, dtype: int64\n"
     ]
    }
   ],
   "source": [
    "from sklearn.cluster import KMeans\n",
    "\n",
    "k = 4  # Use the optimal number from the Elbow Method\n",
    "kmeans = KMeans(n_clusters=k, random_state=42)\n",
    "\n",
    "# Ensure the length of predictions matches the customers table\n",
    "customers[\"cluster\"] = kmeans.fit_predict(features_scaled)\n",
    "\n",
    "# Check assigned clusters\n",
    "print(customers[\"cluster\"].value_counts())\n"
   ]
  },
  {
   "cell_type": "markdown",
   "id": "07d214d7-4d3c-4f96-87f7-6db7274a3333",
   "metadata": {},
   "source": [
    "## Evaluating Clusters\n",
    "### 1️⃣ Silhouette Score"
   ]
  },
  {
   "cell_type": "code",
   "execution_count": 88,
   "id": "178cb2ce-15c4-4e7c-ad65-ac61ad4a8110",
   "metadata": {},
   "outputs": [
    {
     "name": "stdout",
     "output_type": "stream",
     "text": [
      "Silhouette Score: 0.3953\n"
     ]
    }
   ],
   "source": [
    "from sklearn.metrics import silhouette_score\n",
    "\n",
    "silhouette = silhouette_score(features_scaled, customers[\"cluster\"])\n",
    "print(f\"Silhouette Score: {silhouette:.4f}\")\n"
   ]
  },
  {
   "cell_type": "markdown",
   "id": "2b1dc920-9000-4c82-932a-82574a79e03c",
   "metadata": {},
   "source": [
    "#### 2️⃣ Check Inertia (Within-Cluster Variance)"
   ]
  },
  {
   "cell_type": "code",
   "execution_count": 90,
   "id": "42a33626-d506-4509-ba4b-3c237a1c56c1",
   "metadata": {},
   "outputs": [
    {
     "name": "stdout",
     "output_type": "stream",
     "text": [
      "K-Means Inertia: 883.2807998781025\n"
     ]
    }
   ],
   "source": [
    "print(f\"K-Means Inertia: {kmeans.inertia_}\")\n"
   ]
  },
  {
   "cell_type": "markdown",
   "id": "417ff11a-5dab-4aae-97f9-97e7762ab7ad",
   "metadata": {},
   "source": [
    "#### 3️⃣ Visualizing Cluster Distributions"
   ]
  },
  {
   "cell_type": "code",
   "execution_count": 92,
   "id": "21abe0a6-400b-4969-87c7-6ec1217ed7cd",
   "metadata": {},
   "outputs": [
    {
     "data": {
      "image/png": "[encoded data removed]",
      "text/plain": [
       "<Figure size 800x600 with 1 Axes>"
      ]
     },
     "metadata": {},
     "output_type": "display_data"
    }
   ],
   "source": [
    "import seaborn as sns\n",
    "import matplotlib.pyplot as plt\n",
    "\n",
    "plt.figure(figsize=(8, 6))\n",
    "sns.scatterplot(\n",
    "    x=customers[\"claimed_frequency\"], \n",
    "    y=customers[\"burn_rate\"], \n",
    "    hue=customers[\"cluster\"], \n",
    "    palette=\"viridis\"\n",
    ")\n",
    "plt.title(\"Customer Segments Based on Coupon Usage\")\n",
    "plt.xlabel(\"Claimed Coupons\")\n",
    "plt.ylabel(\"Burn Rate\")\n",
    "plt.legend(title=\"Cluster\")\n",
    "plt.show()\n"
   ]
  },
  {
   "cell_type": "markdown",
   "id": "185e9a88-8f42-4661-9fa5-0b4258b4178a",
   "metadata": {},
   "source": [
    "## Analyzing Customer Segments"
   ]
  },
  {
   "cell_type": "code",
   "execution_count": 97,
   "id": "1ab32fbd-2435-459f-9f4f-043a9ca976b7",
   "metadata": {},
   "outputs": [
    {
     "name": "stdout",
     "output_type": "stream",
     "text": [
      "         claimed_frequency  burn_frequency  burn_rate\n",
      "cluster                                              \n",
      "0                 7.815166        4.758294   0.625320\n",
      "1                 3.128205        0.628571   0.209796\n",
      "2                 3.276042        2.671875   0.838889\n",
      "3                 5.653409        2.400568   0.440384\n"
     ]
    }
   ],
   "source": [
    "# Summary statistics per cluster\n",
    "cluster_summary = customers.groupby(\"cluster\")[[\"claimed_frequency\", \"burn_frequency\", \"burn_rate\"]].mean()\n",
    "print(cluster_summary)\n"
   ]
  },
  {
   "cell_type": "markdown",
   "id": "6e1e7aec-eb84-4654-8b80-d8b2e8c6a330",
   "metadata": {},
   "source": [
    "## Saving & Submitting the Project"
   ]
  },
  {
   "cell_type": "code",
   "execution_count": 100,
   "id": "7c4a88c4-18e2-4e00-a780-3816dac0295a",
   "metadata": {},
   "outputs": [],
   "source": [
    "# Save customers with cluster assignments\n",
    "customers.to_csv(\"customer_segments.csv\", index=False)\n"
   ]
  }
 ],
 "metadata": {
  "kernelspec": {
   "display_name": "Python 3 (ipykernel)",
   "language": "python",
   "name": "python3"
  },
  "language_info": {
   "codemirror_mode": {
    "name": "ipython",
    "version": 3
   },
   "file_extension": ".py",
   "mimetype": "text/x-python",
   "name": "python",
   "nbconvert_exporter": "python",
   "pygments_lexer": "ipython3",
   "version": "3.12.4"
  }
 },
 "nbformat": 4,
 "nbformat_minor": 5
}
